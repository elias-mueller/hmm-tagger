{
  "cells": [
    {
      "cell_type": "markdown",
      "metadata": {
        "pycharm": {}
      },
      "source": [
        "# Project: Part of Speech Tagging with Hidden Markov Models \n",
        "---\n",
        "### Introduction\n",
        "\n",
        "Part of speech tagging is the process of determining the syntactic category of a word from the words in its surrounding context. It is often used to help disambiguate natural language phrases because it can be done quickly with high accuracy. Tagging can be used for many NLP tasks like determining correct pronunciation during speech synthesis (for example, _dis_-count as a noun vs dis-_count_ as a verb), for information retrieval, and for word sense disambiguation.\n",
        "\n",
        "In this notebook, you\u0027ll use the [Pomegranate](http://pomegranate.readthedocs.io/) library to build a hidden Markov model for part of speech tagging using a \"universal\" tagset. Hidden Markov models have been able to achieve [\u003e96% tag accuracy with larger tagsets on realistic text corpora](http://www.coli.uni-saarland.de/~thorsten/publications/Brants-ANLP00.pdf). Hidden Markov models have also been used for speech recognition and speech generation, machine translation, gene recognition for bioinformatics, and human gesture recognition for computer vision, and more. \n",
        "\n",
        "![](_post-hmm.png)\n",
        "\n",
        "The notebook already contains some code to get you started. You only need to add some new functionality in the areas indicated to complete the project; you will not need to modify the included code beyond what is requested. Sections that begin with **\u0027IMPLEMENTATION\u0027** in the header indicate that you must provide code in the block that follows. Instructions will be provided for each section, and the specifics of the implementation are marked in the code block with a \u0027TODO\u0027 statement. Please be sure to read the instructions carefully!"
      ]
    },
    {
      "cell_type": "markdown",
      "metadata": {
        "pycharm": {}
      },
      "source": "\u003cdiv class\u003d\"alert alert-block alert-info\"\u003e\n**Note:** Once you have completed all of the code implementations, you need to finalize your work by exporting the iPython Notebook as an HTML document. Before exporting the notebook to html, all of the code cells need to have been run so that reviewers can see the final implementation and output. You must then **export the notebook** by running the last cell in the notebook, or by using the menu above and navigating to **File -\u003e Download as -\u003e HTML (.html)** Your submissions should include both the `html` and `ipynb` files.\n\u003c/div\u003e"
    },
    {
      "cell_type": "markdown",
      "metadata": {
        "pycharm": {}
      },
      "source": [
        "\u003cdiv class\u003d\"alert alert-block alert-info\"\u003e\n",
        "**Note:** Code and Markdown cells can be executed using the `Shift + Enter` keyboard shortcut. Markdown cells can be edited by double-clicking the cell to enter edit mode.\n",
        "\u003c/div\u003e"
      ]
    },
    {
      "cell_type": "markdown",
      "metadata": {
        "pycharm": {}
      },
      "source": [
        "### The Road Ahead\n",
        "You must complete Steps 1-3 below to pass the project. The section on Step 4 includes references \u0026 resources you can use to further explore HMM taggers.\n",
        "\n",
        "- [Step 1](#Step-1:-Read-and-preprocess-the-dataset): Review the provided interface to load and access the text corpus\n",
        "- [Step 2](#Step-2:-Build-a-Most-Frequent-Class-tagger): Build a Most Frequent Class tagger to use as a baseline\n",
        "- [Step 3](#Step-3:-Build-an-HMM-tagger): Build an HMM Part of Speech tagger and compare to the MFC baseline\n",
        "- [Step 4](#Step-4:-[Optional]-Improving-model-performance): (Optional) Improve the HMM tagger"
      ]
    },
    {
      "cell_type": "code",
      "execution_count": 1,
      "metadata": {
        "collapsed": true,
        "pycharm": {
          "is_executing": false
        }
      },
      "outputs": [
        {
          "name": "stderr",
          "text": [
            "/home/ceraph/.conda/envs/aind/lib/python3.5/importlib/_bootstrap.py:222: RuntimeWarning: numpy.dtype size changed, may indicate binary incompatibility. Expected 96, got 88\n  return f(*args, **kwds)\n/home/ceraph/.conda/envs/aind/lib/python3.5/importlib/_bootstrap.py:222: RuntimeWarning: numpy.dtype size changed, may indicate binary incompatibility. Expected 96, got 88\n  return f(*args, **kwds)\n"
          ],
          "output_type": "stream"
        }
      ],
      "source": "# Jupyter \"magic methods\" -- only need to be run once per kernel restart\n%load_ext autoreload\n%aimport helpers, tests\n%autoreload 1"
    },
    {
      "cell_type": "code",
      "execution_count": 2,
      "metadata": {
        "collapsed": true,
        "pycharm": {
          "is_executing": false
        }
      },
      "outputs": [
        {
          "name": "stderr",
          "text": [
            "/home/ceraph/.conda/envs/aind/lib/python3.5/importlib/_bootstrap.py:222: RuntimeWarning: numpy.dtype size changed, may indicate binary incompatibility. Expected 96, got 88\n  return f(*args, **kwds)\n"
          ],
          "output_type": "stream"
        }
      ],
      "source": "# import python modules -- this cell needs to be run again if you make changes to any of the files\nimport matplotlib.pyplot as plt\nimport numpy as np\n\nfrom IPython.core.display import HTML\nfrom itertools import chain\nfrom collections import Counter, defaultdict\nfrom helpers import show_model, Dataset\nfrom pomegranate import State, HiddenMarkovModel, DiscreteDistribution"
    },
    {
      "cell_type": "markdown",
      "metadata": {
        "pycharm": {}
      },
      "source": "## Step 1: Read and preprocess the dataset\n---\nWe\u0027ll start by reading in a text corpus and splitting it into a training and testing dataset. The data set is a copy of the [Brown corpus](https://en.wikipedia.org/wiki/Brown_Corpus) (originally from the [NLTK](https://www.nltk.org/) library) that has already been pre-processed to only include the [universal tagset](https://arxiv.org/pdf/1104.2086.pdf). You should expect to get slightly higher accuracy using this simplified tagset than the same model would achieve on a larger tagset like the full [Penn treebank tagset](https://www.ling.upenn.edu/courses/Fall_2003/ling001/penn_treebank_pos.html), but the process you\u0027ll follow would be the same.\n\nThe `Dataset` class provided in helpers.py will read and parse the corpus. You can generate your own datasets compatible with the reader by writing them to the following format. The dataset is stored in plaintext as a collection of words and corresponding tags. Each sentence starts with a unique identifier on the first line, followed by one tab-separated word/tag pair on each following line. Sentences are separated by a single blank line.\n\nExample from the Brown corpus. \n```\nb100-38532\nPerhaps\tADV\nit\tPRON\nwas\tVERB\nright\tADJ\n;\t.\n;\t.\n\nb100-35577\n...\n```"
    },
    {
      "cell_type": "code",
      "execution_count": 3,
      "metadata": {
        "collapsed": true,
        "pycharm": {
          "is_executing": false
        }
      },
      "outputs": [
        {
          "name": "stdout",
          "text": [
            "There are 57340 sentences in the corpus.\nThere are 45872 sentences in the training set.\nThere are 11468 sentences in the testing set.\n"
          ],
          "output_type": "stream"
        }
      ],
      "source": "data \u003d Dataset(\"tags-universal.txt\", \"brown-universal.txt\", train_test_split\u003d0.8)\nprint(\"There are {} sentences in the corpus.\".format(len(data)))\nprint(\"There are {} sentences in the training set.\".format(len(data.training_set)))\nprint(\"There are {} sentences in the testing set.\".format(len(data.testing_set)))\n\nassert len(data) \u003d\u003d len(data.training_set) + len(data.testing_set), \\\n       \"The number of sentences in the training set + testing set should sum to the number of sentences in the corpus\""
    },
    {
      "cell_type": "markdown",
      "metadata": {
        "pycharm": {}
      },
      "source": [
        "### The Dataset Interface\n",
        "\n",
        "You can access (mostly) immutable references to the dataset through a simple interface provided through the `Dataset` class, which represents an iterable collection of sentences along with easy access to partitions of the data for training \u0026 testing. Review the reference below, then run and review the next few cells to make sure you understand the interface before moving on to the next step.\n",
        "\n",
        "```\n",
        "Dataset-only Attributes:\n",
        "    training_set - reference to a Subset object containing the samples for training\n",
        "    testing_set - reference to a Subset object containing the samples for testing\n",
        "\n",
        "Dataset \u0026 Subset Attributes:\n",
        "    sentences - a dictionary with an entry {sentence_key: Sentence()} for each sentence in the corpus\n",
        "    keys - an immutable ordered (not sorted) collection of the sentence_keys for the corpus\n",
        "    vocab - an immutable collection of the unique words in the corpus\n",
        "    tagset - an immutable collection of the unique tags in the corpus\n",
        "    X - returns an array of words grouped by sentences ((w11, w12, w13, ...), (w21, w22, w23, ...), ...)\n",
        "    Y - returns an array of tags grouped by sentences ((t11, t12, t13, ...), (t21, t22, t23, ...), ...)\n",
        "    N - returns the number of distinct samples (individual words or tags) in the dataset\n",
        "\n",
        "Methods:\n",
        "    stream() - returns an flat iterable over all (word, tag) pairs across all sentences in the corpus\n",
        "    __iter__() - returns an iterable over the data as (sentence_key, Sentence()) pairs\n",
        "    __len__() - returns the nubmer of sentences in the dataset\n",
        "```\n",
        "\n",
        "For example, consider a Subset, `subset`, of the sentences `{\"s0\": Sentence((\"See\", \"Spot\", \"run\"), (\"VERB\", \"NOUN\", \"VERB\")), \"s1\": Sentence((\"Spot\", \"ran\"), (\"NOUN\", \"VERB\"))}`. The subset will have these attributes:\n",
        "\n",
        "```\n",
        "subset.keys \u003d\u003d {\"s1\", \"s0\"}  # unordered\n",
        "subset.vocab \u003d\u003d {\"See\", \"run\", \"ran\", \"Spot\"}  # unordered\n",
        "subset.tagset \u003d\u003d {\"VERB\", \"NOUN\"}  # unordered\n",
        "subset.X \u003d\u003d ((\"Spot\", \"ran\"), (\"See\", \"Spot\", \"run\"))  # order matches .keys\n",
        "subset.Y \u003d\u003d ((\"NOUN\", \"VERB\"), (\"VERB\", \"NOUN\", \"VERB\"))  # order matches .keys\n",
        "subset.N \u003d\u003d 7  # there are a total of seven observations over all sentences\n",
        "len(subset) \u003d\u003d 2  # because there are two sentences\n",
        "```\n",
        "\n",
        "\u003cdiv class\u003d\"alert alert-block alert-info\"\u003e\n",
        "**Note:** The `Dataset` class is _convenient_, but it is **not** efficient. It is not suitable for huge datasets because it stores multiple redundant copies of the same data.\n",
        "\u003c/div\u003e"
      ]
    },
    {
      "cell_type": "markdown",
      "metadata": {
        "pycharm": {}
      },
      "source": [
        "#### Sentences\n",
        "\n",
        "`Dataset.sentences` is a dictionary of all sentences in the training corpus, each keyed to a unique sentence identifier. Each `Sentence` is itself an object with two attributes: a tuple of the words in the sentence named `words` and a tuple of the tag corresponding to each word named `tags`."
      ]
    },
    {
      "cell_type": "code",
      "execution_count": 4,
      "metadata": {
        "collapsed": true,
        "pycharm": {
          "is_executing": false
        }
      },
      "outputs": [
        {
          "name": "stdout",
          "text": [
            "Sentence: b100-38532\nwords:\n\t(\u0027Perhaps\u0027, \u0027it\u0027, \u0027was\u0027, \u0027right\u0027, \u0027;\u0027, \u0027;\u0027)\ntags:\n\t(\u0027ADV\u0027, \u0027PRON\u0027, \u0027VERB\u0027, \u0027ADJ\u0027, \u0027.\u0027, \u0027.\u0027)\n"
          ],
          "output_type": "stream"
        }
      ],
      "source": "key \u003d \u0027b100-38532\u0027\nprint(\"Sentence: {}\".format(key))\nprint(\"words:\\n\\t{!s}\".format(data.sentences[key].words))\nprint(\"tags:\\n\\t{!s}\".format(data.sentences[key].tags))"
    },
    {
      "cell_type": "markdown",
      "metadata": {
        "pycharm": {}
      },
      "source": [
        "\u003cdiv class\u003d\"alert alert-block alert-info\"\u003e\n",
        "**Note:** The underlying iterable sequence is **unordered** over the sentences in the corpus; it is not guaranteed to return the sentences in a consistent order between calls. Use `Dataset.stream()`, `Dataset.keys`, `Dataset.X`, or `Dataset.Y` attributes if you need ordered access to the data.\n",
        "\u003c/div\u003e\n",
        "\n",
        "#### Counting Unique Elements\n",
        "\n",
        "You can access the list of unique words (the dataset vocabulary) via `Dataset.vocab` and the unique list of tags via `Dataset.tagset`."
      ]
    },
    {
      "cell_type": "code",
      "execution_count": 5,
      "metadata": {
        "collapsed": true,
        "pycharm": {
          "is_executing": false
        }
      },
      "outputs": [
        {
          "name": "stdout",
          "text": [
            "There are a total of 1161192 samples of 56057 unique words in the corpus.\nThere are 928458 samples of 50536 unique words in the training set.\nThere are 232734 samples of 25112 unique words in the testing set.\nThere are 5521 words in the test set that are missing in the training set.\n"
          ],
          "output_type": "stream"
        }
      ],
      "source": [
        "print(\"There are a total of {} samples of {} unique words in the corpus.\"\n",
        "      .format(data.N, len(data.vocab)))\n",
        "print(\"There are {} samples of {} unique words in the training set.\"\n",
        "      .format(data.training_set.N, len(data.training_set.vocab)))\n",
        "print(\"There are {} samples of {} unique words in the testing set.\"\n",
        "      .format(data.testing_set.N, len(data.testing_set.vocab)))\n",
        "print(\"There are {} words in the test set that are missing in the training set.\"\n",
        "      .format(len(data.testing_set.vocab - data.training_set.vocab)))\n",
        "\n",
        "assert data.N \u003d\u003d data.training_set.N + data.testing_set.N, \\\n",
        "       \"The number of training + test samples should sum to the total number of samples\""
      ]
    },
    {
      "cell_type": "markdown",
      "metadata": {
        "pycharm": {}
      },
      "source": [
        "#### Accessing word and tag Sequences\n",
        "The `Dataset.X` and `Dataset.Y` attributes provide access to ordered collections of matching word and tag sequences for each sentence in the dataset."
      ]
    },
    {
      "cell_type": "code",
      "execution_count": 6,
      "metadata": {
        "collapsed": true,
        "pycharm": {
          "is_executing": false
        }
      },
      "outputs": [
        {
          "name": "stdout",
          "text": [
            "Sentence 1: (\u0027Mr.\u0027, \u0027Podger\u0027, \u0027had\u0027, \u0027thanked\u0027, \u0027him\u0027, \u0027gravely\u0027, \u0027,\u0027, \u0027and\u0027, \u0027now\u0027, \u0027he\u0027, \u0027made\u0027, \u0027use\u0027, \u0027of\u0027, \u0027the\u0027, \u0027advice\u0027, \u0027.\u0027)\n\nLabels 1: (\u0027NOUN\u0027, \u0027NOUN\u0027, \u0027VERB\u0027, \u0027VERB\u0027, \u0027PRON\u0027, \u0027ADV\u0027, \u0027.\u0027, \u0027CONJ\u0027, \u0027ADV\u0027, \u0027PRON\u0027, \u0027VERB\u0027, \u0027NOUN\u0027, \u0027ADP\u0027, \u0027DET\u0027, \u0027NOUN\u0027, \u0027.\u0027)\n\nSentence 2: (\u0027But\u0027, \u0027there\u0027, \u0027seemed\u0027, \u0027to\u0027, \u0027be\u0027, \u0027some\u0027, \u0027difference\u0027, \u0027of\u0027, \u0027opinion\u0027, \u0027as\u0027, \u0027to\u0027, \u0027how\u0027, \u0027far\u0027, \u0027the\u0027, \u0027board\u0027, \u0027should\u0027, \u0027go\u0027, \u0027,\u0027, \u0027and\u0027, \u0027whose\u0027, \u0027advice\u0027, \u0027it\u0027, \u0027should\u0027, \u0027follow\u0027, \u0027.\u0027)\n\nLabels 2: (\u0027CONJ\u0027, \u0027PRT\u0027, \u0027VERB\u0027, \u0027PRT\u0027, \u0027VERB\u0027, \u0027DET\u0027, \u0027NOUN\u0027, \u0027ADP\u0027, \u0027NOUN\u0027, \u0027ADP\u0027, \u0027ADP\u0027, \u0027ADV\u0027, \u0027ADV\u0027, \u0027DET\u0027, \u0027NOUN\u0027, \u0027VERB\u0027, \u0027VERB\u0027, \u0027.\u0027, \u0027CONJ\u0027, \u0027DET\u0027, \u0027NOUN\u0027, \u0027PRON\u0027, \u0027VERB\u0027, \u0027VERB\u0027, \u0027.\u0027)\n\n"
          ],
          "output_type": "stream"
        }
      ],
      "source": [
        "# accessing words with Dataset.X and tags with Dataset.Y \n",
        "for i in range(2):    \n",
        "    print(\"Sentence {}:\".format(i + 1), data.X[i])\n",
        "    print()\n",
        "    print(\"Labels {}:\".format(i + 1), data.Y[i])\n",
        "    print()"
      ]
    },
    {
      "cell_type": "markdown",
      "metadata": {
        "pycharm": {}
      },
      "source": [
        "#### Accessing (word, tag) Samples\n",
        "The `Dataset.stream()` method returns an iterator that chains together every pair of (word, tag) entries across all sentences in the entire corpus."
      ]
    },
    {
      "cell_type": "code",
      "execution_count": 7,
      "metadata": {
        "collapsed": true,
        "pycharm": {
          "is_executing": false
        }
      },
      "outputs": [
        {
          "name": "stdout",
          "text": [
            "\nStream (word, tag) pairs:\n\n\t (\u0027Mr.\u0027, \u0027NOUN\u0027)\n\t (\u0027Podger\u0027, \u0027NOUN\u0027)\n\t (\u0027had\u0027, \u0027VERB\u0027)\n\t (\u0027thanked\u0027, \u0027VERB\u0027)\n\t (\u0027him\u0027, \u0027PRON\u0027)\n\t (\u0027gravely\u0027, \u0027ADV\u0027)\n\t (\u0027,\u0027, \u0027.\u0027)\n"
          ],
          "output_type": "stream"
        }
      ],
      "source": [
        "# use Dataset.stream() (word, tag) samples for the entire corpus\n",
        "print(\"\\nStream (word, tag) pairs:\\n\")\n",
        "for i, pair in enumerate(data.stream()):\n",
        "    print(\"\\t\", pair)\n",
        "    if i \u003e 5: break"
      ]
    },
    {
      "cell_type": "markdown",
      "metadata": {
        "pycharm": {}
      },
      "source": [
        "\n",
        "For both our baseline tagger and the HMM model we\u0027ll build, we need to estimate the frequency of tags \u0026 words from the frequency counts of observations in the training corpus. In the next several cells you will complete functions to compute the counts of several sets of counts. "
      ]
    },
    {
      "cell_type": "markdown",
      "metadata": {
        "pycharm": {}
      },
      "source": [
        "## Step 2: Build a Most Frequent Class tagger\n",
        "---\n",
        "\n",
        "Perhaps the simplest tagger (and a good baseline for tagger performance) is to simply choose the tag most frequently assigned to each word. This \"most frequent class\" tagger inspects each observed word in the sequence and assigns it the label that was most often assigned to that word in the corpus."
      ]
    },
    {
      "cell_type": "markdown",
      "metadata": {
        "pycharm": {}
      },
      "source": [
        "### IMPLEMENTATION: Pair Counts\n",
        "\n",
        "Complete the function below that computes the joint frequency counts for two input sequences."
      ]
    },
    {
      "cell_type": "code",
      "execution_count": 8,
      "metadata": {
        "collapsed": true,
        "pycharm": {
          "is_executing": false
        }
      },
      "outputs": [
        {
          "data": {
            "text/html": "\u003cdiv class\u003d\"alert alert-block alert-success\"\u003eYour emission counts look good!\u003c/div\u003e",
            "text/plain": "\u003cIPython.core.display.HTML object\u003e"
          },
          "metadata": {},
          "output_type": "execute_result",
          "execution_count": 8
        }
      ],
      "source": "def pair_counts(sequences_A, sequences_B):\n    \"\"\"Return a dictionary keyed to each unique value in the first sequence list\n    that counts the number of occurrences of the corresponding value from the\n    second sequences list.\n    \n    For example, if sequences_A is tags and sequences_B is the corresponding\n    words, then if 1244 sequences contain the word \"time\" tagged as a NOUN, then\n    you should return a dictionary such that pair_counts[NOUN][time] \u003d\u003d 1244\n    \"\"\"\n    sequences_flat_B \u003d [element for sublist in sequences_B for element in sublist]\n    sequences_flat_A \u003d [element for sublist in sequences_A for element in sublist]\n    pair_counts \u003d defaultdict(lambda: defaultdict(int))\n    for pair in zip(sequences_flat_A, sequences_flat_B):\n        pair_counts[pair[0]][pair[1]] +\u003d 1\n    return pair_counts\n\n# Calculate C(t_i, w_i)\nemission_counts \u003d pair_counts(data.Y, data.X)\n\nassert len(emission_counts) \u003d\u003d 12, \\\n       \"Uh oh. There should be 12 tags in your dictionary.\"\nassert max(emission_counts[\"NOUN\"], key\u003demission_counts[\"NOUN\"].get) \u003d\u003d \u0027time\u0027, \\\n       \"Hmmm...\u0027time\u0027 is expected to be the most common NOUN.\"\nHTML(\u0027\u003cdiv class\u003d\"alert alert-block alert-success\"\u003eYour emission counts look good!\u003c/div\u003e\u0027)"
    },
    {
      "cell_type": "markdown",
      "metadata": {
        "pycharm": {}
      },
      "source": [
        "### IMPLEMENTATION: Most Frequent Class Tagger\n",
        "\n",
        "Use the `pair_counts()` function and the training dataset to find the most frequent class label for each word in the training data, and populate the `mfc_table` below. The table keys should be words, and the values should be the appropriate tag string.\n",
        "\n",
        "The `MFCTagger` class is provided to mock the interface of Pomegranite HMM models so that they can be used interchangeably."
      ]
    },
    {
      "cell_type": "code",
      "execution_count": 9,
      "metadata": {
        "collapsed": true,
        "pycharm": {
          "is_executing": false
        }
      },
      "outputs": [
        {
          "data": {
            "text/html": "\u003cdiv class\u003d\"alert alert-block alert-success\"\u003eYour MFC tagger has all the correct words!\u003c/div\u003e",
            "text/plain": "\u003cIPython.core.display.HTML object\u003e"
          },
          "metadata": {},
          "output_type": "execute_result",
          "execution_count": 9
        }
      ],
      "source": "# Create a lookup table mfc_table where mfc_table[word] contains the tag label most frequently assigned to that word\nfrom collections import namedtuple\n\nFakeState \u003d namedtuple(\"FakeState\", \"name\")\n\nclass MFCTagger:\n    # NOTE: You should not need to modify this class or any of its methods\n    missing \u003d FakeState(name\u003d\"\u003cMISSING\u003e\")\n    \n    def __init__(self, table):\n        self.table \u003d defaultdict(lambda: MFCTagger.missing)\n        self.table.update({word: FakeState(name\u003dtag) for word, tag in table.items()})\n        \n    def viterbi(self, seq):\n        \"\"\"This method simplifies predictions by matching the Pomegranate viterbi() interface\"\"\"\n        return 0., list(enumerate([\"\u003cstart\u003e\"] + [self.table[w] for w in seq] + [\"\u003cend\u003e\"]))\n\n\n# TODO: calculate the frequency of each tag being assigned to each word (hint: similar, but not\n# the same as the emission probabilities) and use it to fill the mfc_table\n\nword_counts \u003d pair_counts(data.training_set.X, data.training_set.Y)\n\nmfc_table \u003d {}\nfor item in word_counts.items():\n    mfc_table[item[0]] \u003d max(item[1].items(), key\u003dlambda e: e[1])[0]\n\n\n# DO NOT MODIFY BELOW THIS LINE\nmfc_model \u003d MFCTagger(mfc_table) # Create a Most Frequent Class tagger instance\n\nassert len(mfc_table) \u003d\u003d len(data.training_set.vocab), \"\"\nassert all(k in data.training_set.vocab for k in mfc_table.keys()), \"\"\nassert sum(int(k not in mfc_table) for k in data.testing_set.vocab) \u003d\u003d 5521, \"\"\nHTML(\u0027\u003cdiv class\u003d\"alert alert-block alert-success\"\u003eYour MFC tagger has all the correct words!\u003c/div\u003e\u0027)"
    },
    {
      "cell_type": "markdown",
      "metadata": {
        "pycharm": {}
      },
      "source": [
        "### Making Predictions with a Model\n",
        "The helper functions provided below interface with Pomegranate network models \u0026 the mocked MFCTagger to take advantage of the [missing value](http://pomegranate.readthedocs.io/en/latest/nan.html) functionality in Pomegranate through a simple sequence decoding function. Run these functions, then run the next cell to see some of the predictions made by the MFC tagger."
      ]
    },
    {
      "cell_type": "code",
      "execution_count": 10,
      "metadata": {
        "collapsed": true,
        "pycharm": {
          "is_executing": false
        }
      },
      "outputs": [],
      "source": [
        "def replace_unknown(sequence):\n",
        "    \"\"\"Return a copy of the input sequence where each unknown word is replaced\n",
        "    by the literal string value \u0027nan\u0027. Pomegranate will ignore these values\n",
        "    during computation.\n",
        "    \"\"\"\n",
        "    return [w if w in data.training_set.vocab else \u0027nan\u0027 for w in sequence]\n",
        "\n",
        "def simplify_decoding(X, model):\n",
        "    \"\"\"X should be a 1-D sequence of observations for the model to predict\"\"\"\n",
        "    _, state_path \u003d model.viterbi(replace_unknown(X))\n",
        "    return [state[1].name for state in state_path[1:-1]]  # do not show the start/end state predictions"
      ]
    },
    {
      "cell_type": "markdown",
      "metadata": {
        "pycharm": {}
      },
      "source": [
        "### Example Decoding Sequences with MFC Tagger"
      ]
    },
    {
      "cell_type": "code",
      "execution_count": 11,
      "metadata": {
        "collapsed": true,
        "pycharm": {
          "is_executing": false
        }
      },
      "outputs": [
        {
          "name": "stdout",
          "text": [
            "Sentence Key: b100-28144\n\nPredicted labels:\n-----------------\n[\u0027CONJ\u0027, \u0027NOUN\u0027, \u0027NUM\u0027, \u0027.\u0027, \u0027NOUN\u0027, \u0027NUM\u0027, \u0027.\u0027, \u0027NOUN\u0027, \u0027NUM\u0027, \u0027.\u0027, \u0027CONJ\u0027, \u0027NOUN\u0027, \u0027NUM\u0027, \u0027.\u0027, \u0027.\u0027, \u0027NOUN\u0027, \u0027.\u0027, \u0027.\u0027]\n\nActual labels:\n--------------\n(\u0027CONJ\u0027, \u0027NOUN\u0027, \u0027NUM\u0027, \u0027.\u0027, \u0027NOUN\u0027, \u0027NUM\u0027, \u0027.\u0027, \u0027NOUN\u0027, \u0027NUM\u0027, \u0027.\u0027, \u0027CONJ\u0027, \u0027NOUN\u0027, \u0027NUM\u0027, \u0027.\u0027, \u0027.\u0027, \u0027NOUN\u0027, \u0027.\u0027, \u0027.\u0027)\n\n\nSentence Key: b100-23146\n\nPredicted labels:\n-----------------\n[\u0027PRON\u0027, \u0027VERB\u0027, \u0027DET\u0027, \u0027NOUN\u0027, \u0027ADP\u0027, \u0027ADJ\u0027, \u0027ADJ\u0027, \u0027NOUN\u0027, \u0027VERB\u0027, \u0027VERB\u0027, \u0027.\u0027, \u0027ADP\u0027, \u0027VERB\u0027, \u0027DET\u0027, \u0027NOUN\u0027, \u0027ADP\u0027, \u0027NOUN\u0027, \u0027ADP\u0027, \u0027DET\u0027, \u0027NOUN\u0027, \u0027.\u0027]\n\nActual labels:\n--------------\n(\u0027PRON\u0027, \u0027VERB\u0027, \u0027DET\u0027, \u0027NOUN\u0027, \u0027ADP\u0027, \u0027ADJ\u0027, \u0027ADJ\u0027, \u0027NOUN\u0027, \u0027VERB\u0027, \u0027VERB\u0027, \u0027.\u0027, \u0027ADP\u0027, \u0027VERB\u0027, \u0027DET\u0027, \u0027NOUN\u0027, \u0027ADP\u0027, \u0027NOUN\u0027, \u0027ADP\u0027, \u0027DET\u0027, \u0027NOUN\u0027, \u0027.\u0027)\n\n\nSentence Key: b100-35462\n\nPredicted labels:\n-----------------\n[\u0027DET\u0027, \u0027ADJ\u0027, \u0027NOUN\u0027, \u0027VERB\u0027, \u0027VERB\u0027, \u0027VERB\u0027, \u0027ADP\u0027, \u0027DET\u0027, \u0027ADJ\u0027, \u0027ADJ\u0027, \u0027NOUN\u0027, \u0027ADP\u0027, \u0027DET\u0027, \u0027ADJ\u0027, \u0027NOUN\u0027, \u0027.\u0027, \u0027ADP\u0027, \u0027ADJ\u0027, \u0027NOUN\u0027, \u0027.\u0027, \u0027CONJ\u0027, \u0027ADP\u0027, \u0027DET\u0027, \u0027\u003cMISSING\u003e\u0027, \u0027ADP\u0027, \u0027ADJ\u0027, \u0027ADJ\u0027, \u0027.\u0027, \u0027ADJ\u0027, \u0027.\u0027, \u0027CONJ\u0027, \u0027ADJ\u0027, \u0027NOUN\u0027, \u0027ADP\u0027, \u0027ADV\u0027, \u0027NOUN\u0027, \u0027.\u0027]\n\nActual labels:\n--------------\n(\u0027DET\u0027, \u0027ADJ\u0027, \u0027NOUN\u0027, \u0027VERB\u0027, \u0027VERB\u0027, \u0027VERB\u0027, \u0027ADP\u0027, \u0027DET\u0027, \u0027ADJ\u0027, \u0027ADJ\u0027, \u0027NOUN\u0027, \u0027ADP\u0027, \u0027DET\u0027, \u0027ADJ\u0027, \u0027NOUN\u0027, \u0027.\u0027, \u0027ADP\u0027, \u0027ADJ\u0027, \u0027NOUN\u0027, \u0027.\u0027, \u0027CONJ\u0027, \u0027ADP\u0027, \u0027DET\u0027, \u0027NOUN\u0027, \u0027ADP\u0027, \u0027ADJ\u0027, \u0027ADJ\u0027, \u0027.\u0027, \u0027ADJ\u0027, \u0027.\u0027, \u0027CONJ\u0027, \u0027ADJ\u0027, \u0027NOUN\u0027, \u0027ADP\u0027, \u0027ADJ\u0027, \u0027NOUN\u0027, \u0027.\u0027)\n\n\n"
          ],
          "output_type": "stream"
        }
      ],
      "source": [
        "for key in data.testing_set.keys[:3]:\n",
        "    print(\"Sentence Key: {}\\n\".format(key))\n",
        "    print(\"Predicted labels:\\n-----------------\")\n",
        "    print(simplify_decoding(data.sentences[key].words, mfc_model))\n",
        "    print()\n",
        "    print(\"Actual labels:\\n--------------\")\n",
        "    print(data.sentences[key].tags)\n",
        "    print(\"\\n\")"
      ]
    },
    {
      "cell_type": "markdown",
      "metadata": {
        "pycharm": {}
      },
      "source": [
        "### Evaluating Model Accuracy\n",
        "\n",
        "The function below will evaluate the accuracy of the MFC tagger on the collection of all sentences from a text corpus. "
      ]
    },
    {
      "cell_type": "code",
      "execution_count": 12,
      "metadata": {
        "collapsed": true,
        "pycharm": {
          "is_executing": false
        }
      },
      "outputs": [],
      "source": [
        "def accuracy(X, Y, model):\n",
        "    \"\"\"Calculate the prediction accuracy by using the model to decode each sequence\n",
        "    in the input X and comparing the prediction with the true labels in Y.\n",
        "    \n",
        "    The X should be an array whose first dimension is the number of sentences to test,\n",
        "    and each element of the array should be an iterable of the words in the sequence.\n",
        "    The arrays X and Y should have the exact same shape.\n",
        "    \n",
        "    X \u003d [(\"See\", \"Spot\", \"run\"), (\"Run\", \"Spot\", \"run\", \"fast\"), ...]\n",
        "    Y \u003d [(), (), ...]\n",
        "    \"\"\"\n",
        "    correct \u003d total_predictions \u003d 0\n",
        "    for observations, actual_tags in zip(X, Y):\n",
        "        \n",
        "        # The model.viterbi call in simplify_decoding will return None if the HMM\n",
        "        # raises an error (for example, if a test sentence contains a word that\n",
        "        # is out of vocabulary for the training set). Any exception counts the\n",
        "        # full sentence as an error (which makes this a conservative estimate).\n",
        "        try:\n",
        "            most_likely_tags \u003d simplify_decoding(observations, model)\n",
        "            correct +\u003d sum(p \u003d\u003d t for p, t in zip(most_likely_tags, actual_tags))\n",
        "        except:\n",
        "            pass\n",
        "        total_predictions +\u003d len(observations)\n",
        "    return correct / total_predictions"
      ]
    },
    {
      "cell_type": "markdown",
      "metadata": {
        "pycharm": {}
      },
      "source": [
        "#### Evaluate the accuracy of the MFC tagger\n",
        "Run the next cell to evaluate the accuracy of the tagger on the training and test corpus."
      ]
    },
    {
      "cell_type": "code",
      "execution_count": 13,
      "metadata": {
        "collapsed": true,
        "pycharm": {
          "is_executing": false
        }
      },
      "outputs": [
        {
          "name": "stdout",
          "text": [
            "training accuracy mfc_model: 95.72%\ntesting accuracy mfc_model: 93.02%\n"
          ],
          "output_type": "stream"
        },
        {
          "data": {
            "text/html": "\u003cdiv class\u003d\"alert alert-block alert-success\"\u003eYour MFC tagger accuracy looks correct!\u003c/div\u003e",
            "text/plain": "\u003cIPython.core.display.HTML object\u003e"
          },
          "metadata": {},
          "output_type": "execute_result",
          "execution_count": 13
        }
      ],
      "source": [
        "mfc_training_acc \u003d accuracy(data.training_set.X, data.training_set.Y, mfc_model)\n",
        "print(\"training accuracy mfc_model: {:.2f}%\".format(100 * mfc_training_acc))\n",
        "\n",
        "mfc_testing_acc \u003d accuracy(data.testing_set.X, data.testing_set.Y, mfc_model)\n",
        "print(\"testing accuracy mfc_model: {:.2f}%\".format(100 * mfc_testing_acc))\n",
        "\n",
        "assert mfc_training_acc \u003e\u003d 0.955, \"Uh oh. Your MFC accuracy on the training set doesn\u0027t look right.\"\n",
        "assert mfc_testing_acc \u003e\u003d 0.925, \"Uh oh. Your MFC accuracy on the testing set doesn\u0027t look right.\"\n",
        "HTML(\u0027\u003cdiv class\u003d\"alert alert-block alert-success\"\u003eYour MFC tagger accuracy looks correct!\u003c/div\u003e\u0027)"
      ]
    },
    {
      "cell_type": "markdown",
      "metadata": {
        "pycharm": {}
      },
      "source": [
        "## Step 3: Build an HMM tagger\n",
        "---\n",
        "The HMM tagger has one hidden state for each possible tag, and parameterized by two distributions: the emission probabilties giving the conditional probability of observing a given **word** from each hidden state, and the transition probabilities giving the conditional probability of moving between **tags** during the sequence.\n",
        "\n",
        "We will also estimate the starting probability distribution (the probability of each **tag** being the first tag in a sequence), and the terminal probability distribution (the probability of each **tag** being the last tag in a sequence).\n",
        "\n",
        "The maximum likelihood estimate of these distributions can be calculated from the frequency counts as described in the following sections where you\u0027ll implement functions to count the frequencies, and finally build the model. The HMM model will make predictions according to the formula:\n",
        "\n",
        "$$t_i^n \u003d \\underset{t_i^n}{\\mathrm{argmax}} \\prod_{i\u003d1}^n P(w_i|t_i) P(t_i|t_{i-1})$$\n",
        "\n",
        "Refer to Speech \u0026 Language Processing [Chapter 10](https://web.stanford.edu/~jurafsky/slp3/10.pdf) for more information."
      ]
    },
    {
      "cell_type": "markdown",
      "metadata": {
        "pycharm": {}
      },
      "source": [
        "### IMPLEMENTATION: Unigram Counts\n",
        "\n",
        "Complete the function below to estimate the co-occurrence frequency of each symbol over all of the input sequences. The unigram probabilities in our HMM model are estimated from the formula below, where N is the total number of samples in the input. (You only need to compute the counts for now.)\n",
        "\n",
        "$$P(tag_1) \u003d \\frac{C(tag_1)}{N}$$"
      ]
    },
    {
      "cell_type": "code",
      "execution_count": 14,
      "metadata": {
        "collapsed": true,
        "pycharm": {
          "is_executing": false
        }
      },
      "outputs": [
        {
          "data": {
            "text/html": "\u003cdiv class\u003d\"alert alert-block alert-success\"\u003eYour tag unigrams look good!\u003c/div\u003e",
            "text/plain": "\u003cIPython.core.display.HTML object\u003e"
          },
          "metadata": {},
          "output_type": "execute_result",
          "execution_count": 14
        }
      ],
      "source": "def unigram_counts(sequences):\n    \"\"\"Return a dictionary keyed to each unique value in the input sequence list that\n    counts the number of occurrences of the value in the sequences list. The sequences\n    collection should be a 2-dimensional array.\n    \n    For example, if the tag NOUN appears 275558 times over all the input sequences,\n    then you should return a dictionary such that your_unigram_counts[NOUN] \u003d\u003d 275558.\n    \"\"\"\n    sequences_flattened \u003d [element for sublist in sequences for element in sublist]\n    u_counts \u003d defaultdict(int)\n    for e in sequences_flattened:\n        u_counts[e] +\u003d 1\n    return u_counts\n\n# TODO: call unigram_counts with a list of tag sequences from the training set\ntag_unigrams \u003d unigram_counts(data.training_set.Y)\n\nassert set(tag_unigrams.keys()) \u003d\u003d data.training_set.tagset, \\\n       \"Uh oh. It looks like your tag counts doesn\u0027t include all the tags!\"\nassert min(tag_unigrams, key\u003dtag_unigrams.get) \u003d\u003d \u0027X\u0027, \\\n       \"Hmmm...\u0027X\u0027 is expected to be the least common class\"\nassert max(tag_unigrams, key\u003dtag_unigrams.get) \u003d\u003d \u0027NOUN\u0027, \\\n       \"Hmmm...\u0027NOUN\u0027 is expected to be the most common class\"\nHTML(\u0027\u003cdiv class\u003d\"alert alert-block alert-success\"\u003eYour tag unigrams look good!\u003c/div\u003e\u0027)"
    },
    {
      "cell_type": "markdown",
      "metadata": {
        "pycharm": {}
      },
      "source": [
        "### IMPLEMENTATION: Bigram Counts\n",
        "\n",
        "Complete the function below to estimate the co-occurrence frequency of each pair of symbols in each of the input sequences. These counts are used in the HMM model to estimate the bigram probability of two tags from the frequency counts according to the formula: $$P(tag_2|tag_1) \u003d \\frac{C(tag_2|tag_1)}{C(tag_2)}$$\n"
      ]
    },
    {
      "cell_type": "code",
      "execution_count": 15,
      "metadata": {
        "collapsed": true,
        "pycharm": {
          "is_executing": false
        }
      },
      "outputs": [
        {
          "data": {
            "text/html": "\u003cdiv class\u003d\"alert alert-block alert-success\"\u003eYour tag bigrams look good!\u003c/div\u003e",
            "text/plain": "\u003cIPython.core.display.HTML object\u003e"
          },
          "metadata": {},
          "output_type": "execute_result",
          "execution_count": 15
        }
      ],
      "source": "def bigram_counts(sequences):\n    \"\"\"Return a dictionary keyed to each unique PAIR of values in the input sequences\n    list that counts the number of occurrences of pair in the sequences list. The input\n    should be a 2-dimensional array.\n    \n    For example, if the pair of tags (NOUN, VERB) appear 61582 times, then you should\n    return a dictionary such that your_bigram_counts[(NOUN, VERB)] \u003d\u003d 61582\n    \"\"\"\n    p_counts \u003d defaultdict(int)\n    for seq in sequences:\n        i \u003d 0\n        while i \u003c len(seq) - 1:\n            pair \u003d (seq[i], seq[i+1])\n            p_counts[pair] +\u003d 1\n            i +\u003d 1\n\n    return p_counts\n\n# TODO: call bigram_counts with a list of tag sequences from the training set\ntag_bigrams \u003d bigram_counts(data.training_set.Y)\n\nassert len(tag_bigrams) \u003d\u003d 144, \\\n       \"Uh oh. There should be 144 pairs of bigrams (12 tags x 12 tags)\"\nassert min(tag_bigrams, key\u003dtag_bigrams.get) in [(\u0027X\u0027, \u0027NUM\u0027), (\u0027PRON\u0027, \u0027X\u0027)], \\\n       \"Hmmm...The least common bigram should be one of (\u0027X\u0027, \u0027NUM\u0027) or (\u0027PRON\u0027, \u0027X\u0027).\"\nassert max(tag_bigrams, key\u003dtag_bigrams.get) in [(\u0027DET\u0027, \u0027NOUN\u0027)], \\\n       \"Hmmm...(\u0027DET\u0027, \u0027NOUN\u0027) is expected to be the most common bigram.\"\nHTML(\u0027\u003cdiv class\u003d\"alert alert-block alert-success\"\u003eYour tag bigrams look good!\u003c/div\u003e\u0027)"
    },
    {
      "cell_type": "markdown",
      "metadata": {
        "pycharm": {}
      },
      "source": [
        "### IMPLEMENTATION: Sequence Starting Counts\n",
        "Complete the code below to estimate the bigram probabilities of a sequence starting with each tag."
      ]
    },
    {
      "cell_type": "code",
      "execution_count": 16,
      "metadata": {
        "collapsed": true,
        "pycharm": {
          "is_executing": false
        }
      },
      "outputs": [
        {
          "data": {
            "text/html": "\u003cdiv class\u003d\"alert alert-block alert-success\"\u003eYour starting tag counts look good!\u003c/div\u003e",
            "text/plain": "\u003cIPython.core.display.HTML object\u003e"
          },
          "metadata": {},
          "output_type": "execute_result",
          "execution_count": 16
        }
      ],
      "source": "def starting_counts(sequences):\n    \"\"\"Return a dictionary keyed to each unique value in the input sequences list\n    that counts the number of occurrences where that value is at the beginning of\n    a sequence.\n    \n    For example, if 8093 sequences start with NOUN, then you should return a\n    dictionary such that your_starting_counts[NOUN] \u003d\u003d 8093\n    \"\"\"\n    count \u003d defaultdict(int)\n    for seq in sequences:\n        count[seq[0]] +\u003d 1\n    return count\n\n# TODO: Calculate the count of each tag starting a sequence\ntag_starts \u003d starting_counts(data.training_set.Y)\n\nassert len(tag_starts) \u003d\u003d 12, \"Uh oh. There should be 12 tags in your dictionary.\"\nassert min(tag_starts, key\u003dtag_starts.get) \u003d\u003d \u0027X\u0027, \"Hmmm...\u0027X\u0027 is expected to be the least common starting bigram.\"\nassert max(tag_starts, key\u003dtag_starts.get) \u003d\u003d \u0027DET\u0027, \"Hmmm...\u0027DET\u0027 is expected to be the most common starting bigram.\"\nHTML(\u0027\u003cdiv class\u003d\"alert alert-block alert-success\"\u003eYour starting tag counts look good!\u003c/div\u003e\u0027)"
    },
    {
      "cell_type": "markdown",
      "metadata": {
        "pycharm": {}
      },
      "source": [
        "### IMPLEMENTATION: Sequence Ending Counts\n",
        "Complete the function below to estimate the bigram probabilities of a sequence ending with each tag."
      ]
    },
    {
      "cell_type": "code",
      "execution_count": 17,
      "metadata": {
        "collapsed": true,
        "pycharm": {
          "is_executing": false
        }
      },
      "outputs": [
        {
          "data": {
            "text/html": "\u003cdiv class\u003d\"alert alert-block alert-success\"\u003eYour ending tag counts look good!\u003c/div\u003e",
            "text/plain": "\u003cIPython.core.display.HTML object\u003e"
          },
          "metadata": {},
          "output_type": "execute_result",
          "execution_count": 17
        }
      ],
      "source": "def ending_counts(sequences):\n    \"\"\"Return a dictionary keyed to each unique value in the input sequences list\n    that counts the number of occurrences where that value is at the end of\n    a sequence.\n    \n    For example, if 18 sequences end with DET, then you should return a\n    dictionary such that your_starting_counts[DET] \u003d\u003d 18\n    \"\"\"\n    count \u003d defaultdict(int)\n    for seq in sequences:\n        count[seq[-1]] +\u003d 1\n    return count\n\n# TODO: Calculate the count of each tag ending a sequence\ntag_ends \u003d ending_counts(data.training_set.Y)\n\nassert len(tag_ends) \u003d\u003d 12, \"Uh oh. There should be 12 tags in your dictionary.\"\nassert min(tag_ends, key\u003dtag_ends.get) in [\u0027X\u0027, \u0027CONJ\u0027], \"Hmmm...\u0027X\u0027 or \u0027CONJ\u0027 should be the least common ending bigram.\"\nassert max(tag_ends, key\u003dtag_ends.get) \u003d\u003d \u0027.\u0027, \"Hmmm...\u0027.\u0027 is expected to be the most common ending bigram.\"\nHTML(\u0027\u003cdiv class\u003d\"alert alert-block alert-success\"\u003eYour ending tag counts look good!\u003c/div\u003e\u0027)"
    },
    {
      "cell_type": "markdown",
      "metadata": {
        "pycharm": {}
      },
      "source": [
        "### IMPLEMENTATION: Basic HMM Tagger\n",
        "Use the tag unigrams and bigrams calculated above to construct a hidden Markov tagger.\n",
        "\n",
        "- Add one state per tag\n",
        "    - The emission distribution at each state should be estimated with the formula: $P(w|t) \u003d \\frac{C(t, w)}{C(t)}$\n",
        "- Add an edge from the starting state `basic_model.start` to each tag\n",
        "    - The transition probability should be estimated with the formula: $P(t|start) \u003d \\frac{C(start, t)}{C(start)}$\n",
        "- Add an edge from each tag to the end state `basic_model.end`\n",
        "    - The transition probability should be estimated with the formula: $P(end|t) \u003d \\frac{C(t, end)}{C(t)}$\n",
        "- Add an edge between _every_ pair of tags\n",
        "    - The transition probability should be estimated with the formula: $P(t_2|t_1) \u003d \\frac{C(t_1, t_2)}{C(t_1)}$"
      ]
    },
    {
      "cell_type": "code",
      "execution_count": 18,
      "metadata": {
        "collapsed": true,
        "pycharm": {
          "is_executing": false
        }
      },
      "outputs": [
        {
          "data": {
            "text/html": "\u003cdiv class\u003d\"alert alert-block alert-success\"\u003eYour HMM network topology looks good!\u003c/div\u003e",
            "text/plain": "\u003cIPython.core.display.HTML object\u003e"
          },
          "metadata": {},
          "output_type": "execute_result",
          "execution_count": 18
        }
      ],
      "source": "basic_model \u003d HiddenMarkovModel(name\u003d\"base-hmm-tagger\")\n\n# TODO: create states with emission probability distributions P(word | tag) and add to the model\n# (Hint: you may need to loop \u0026 create/add new states)\n\nstates \u003d {}\nfor t, count in tag_unigrams.items():\n    words_for_tag \u003d sum(emission_counts[t].values())\n    word_dict_for_tag \u003d emission_counts[t]\n    for word, count in word_dict_for_tag.items():\n        emission_counts[t][word] /\u003d words_for_tag\n    states[t] \u003d State(DiscreteDistribution(dict(word_dict_for_tag)), name\u003dt)\n    basic_model.add_state(states[t])\n\n# TODO: add edges between states for the observed transition frequencies P(tag_i | tag_i-1)\n# (Hint: you may need to loop \u0026 add transitions\n\nfor pair, count in tag_bigrams.items():\n    distribution \u003d count/tag_unigrams[pair[0]]\n    basic_model.add_transition(states[pair[0]], states[pair[1]], distribution) \n\nc_start \u003d sum(tag_starts.values())\nfor tag, count in tag_starts.items():\n    basic_model.add_transition(basic_model.start, states[tag], count/c_start)\n    \nfor tag, count in tag_ends.items():\n    basic_model.add_transition(states[tag], basic_model.end, count/tag_unigrams[tag])\n\n# NOTE: YOU SHOULD NOT NEED TO MODIFY ANYTHING BELOW THIS LINE\n# finalize the model\nbasic_model.bake()\n\nassert all(tag in set(s.name for s in basic_model.states) for tag in data.training_set.tagset), \\\n       \"Every state in your network should use the name of the associated tag, which must be one of the training set tags.\"\nassert basic_model.edge_count() \u003d\u003d 168, \\\n       (\"Your network should have an edge from the start node to each state, one edge between every \" +\n        \"pair of tags (states), and an edge from each state to the end node.\")\nHTML(\u0027\u003cdiv class\u003d\"alert alert-block alert-success\"\u003eYour HMM network topology looks good!\u003c/div\u003e\u0027)"
    },
    {
      "cell_type": "code",
      "execution_count": 19,
      "metadata": {
        "collapsed": true,
        "scrolled": true,
        "pycharm": {
          "is_executing": false
        }
      },
      "outputs": [
        {
          "name": "stdout",
          "text": [
            "training accuracy basic hmm model: 97.54%\n",
            "testing accuracy basic hmm model: 96.16%\n"
          ],
          "output_type": "stream"
        },
        {
          "data": {
            "text/html": "\u003cdiv class\u003d\"alert alert-block alert-success\"\u003eYour HMM tagger accuracy looks correct! Congratulations, you\u0027ve finished the project.\u003c/div\u003e",
            "text/plain": "\u003cIPython.core.display.HTML object\u003e"
          },
          "metadata": {},
          "output_type": "execute_result",
          "execution_count": 19
        }
      ],
      "source": [
        "hmm_training_acc \u003d accuracy(data.training_set.X, data.training_set.Y, basic_model)\n",
        "print(\"training accuracy basic hmm model: {:.2f}%\".format(100 * hmm_training_acc))\n",
        "\n",
        "hmm_testing_acc \u003d accuracy(data.testing_set.X, data.testing_set.Y, basic_model)\n",
        "print(\"testing accuracy basic hmm model: {:.2f}%\".format(100 * hmm_testing_acc))\n",
        "\n",
        "assert hmm_training_acc \u003e 0.97, \"Uh oh. Your HMM accuracy on the training set doesn\u0027t look right.\"\n",
        "assert hmm_training_acc \u003e 0.955, \"Uh oh. Your HMM accuracy on the training set doesn\u0027t look right.\"\n",
        "HTML(\u0027\u003cdiv class\u003d\"alert alert-block alert-success\"\u003eYour HMM tagger accuracy looks correct! Congratulations, you\\\u0027ve finished the project.\u003c/div\u003e\u0027)"
      ]
    },
    {
      "cell_type": "markdown",
      "metadata": {
        "pycharm": {}
      },
      "source": [
        "### Example Decoding Sequences with the HMM Tagger"
      ]
    },
    {
      "cell_type": "code",
      "execution_count": 20,
      "metadata": {
        "collapsed": true,
        "pycharm": {
          "is_executing": false
        }
      },
      "outputs": [
        {
          "name": "stdout",
          "text": [
            "Sentence Key: b100-28144\n\nPredicted labels:\n-----------------\n[\u0027CONJ\u0027, \u0027NOUN\u0027, \u0027NUM\u0027, \u0027.\u0027, \u0027NOUN\u0027, \u0027NUM\u0027, \u0027.\u0027, \u0027NOUN\u0027, \u0027NUM\u0027, \u0027.\u0027, \u0027CONJ\u0027, \u0027NOUN\u0027, \u0027NUM\u0027, \u0027.\u0027, \u0027.\u0027, \u0027NOUN\u0027, \u0027.\u0027, \u0027.\u0027]\n\nActual labels:\n--------------\n(\u0027CONJ\u0027, \u0027NOUN\u0027, \u0027NUM\u0027, \u0027.\u0027, \u0027NOUN\u0027, \u0027NUM\u0027, \u0027.\u0027, \u0027NOUN\u0027, \u0027NUM\u0027, \u0027.\u0027, \u0027CONJ\u0027, \u0027NOUN\u0027, \u0027NUM\u0027, \u0027.\u0027, \u0027.\u0027, \u0027NOUN\u0027, \u0027.\u0027, \u0027.\u0027)\n\n\nSentence Key: b100-23146\n\nPredicted labels:\n-----------------\n[\u0027PRON\u0027, \u0027VERB\u0027, \u0027DET\u0027, \u0027NOUN\u0027, \u0027ADP\u0027, \u0027ADJ\u0027, \u0027ADJ\u0027, \u0027NOUN\u0027, \u0027VERB\u0027, \u0027VERB\u0027, \u0027.\u0027, \u0027ADP\u0027, \u0027VERB\u0027, \u0027DET\u0027, \u0027NOUN\u0027, \u0027ADP\u0027, \u0027NOUN\u0027, \u0027ADP\u0027, \u0027DET\u0027, \u0027NOUN\u0027, \u0027.\u0027]\n\nActual labels:\n--------------\n(\u0027PRON\u0027, \u0027VERB\u0027, \u0027DET\u0027, \u0027NOUN\u0027, \u0027ADP\u0027, \u0027ADJ\u0027, \u0027ADJ\u0027, \u0027NOUN\u0027, \u0027VERB\u0027, \u0027VERB\u0027, \u0027.\u0027, \u0027ADP\u0027, \u0027VERB\u0027, \u0027DET\u0027, \u0027NOUN\u0027, \u0027ADP\u0027, \u0027NOUN\u0027, \u0027ADP\u0027, \u0027DET\u0027, \u0027NOUN\u0027, \u0027.\u0027)\n\n\nSentence Key: b100-35462\n\nPredicted labels:\n-----------------\n[\u0027DET\u0027, \u0027ADJ\u0027, \u0027NOUN\u0027, \u0027VERB\u0027, \u0027VERB\u0027, \u0027VERB\u0027, \u0027ADP\u0027, \u0027DET\u0027, \u0027ADJ\u0027, \u0027ADJ\u0027, \u0027NOUN\u0027, \u0027ADP\u0027, \u0027DET\u0027, \u0027ADJ\u0027, \u0027NOUN\u0027, \u0027.\u0027, \u0027ADP\u0027, \u0027ADJ\u0027, \u0027NOUN\u0027, \u0027.\u0027, \u0027CONJ\u0027, \u0027ADP\u0027, \u0027DET\u0027, \u0027NOUN\u0027, \u0027ADP\u0027, \u0027ADJ\u0027, \u0027ADJ\u0027, \u0027.\u0027, \u0027ADJ\u0027, \u0027.\u0027, \u0027CONJ\u0027, \u0027ADJ\u0027, \u0027NOUN\u0027, \u0027ADP\u0027, \u0027ADJ\u0027, \u0027NOUN\u0027, \u0027.\u0027]\n\nActual labels:\n--------------\n(\u0027DET\u0027, \u0027ADJ\u0027, \u0027NOUN\u0027, \u0027VERB\u0027, \u0027VERB\u0027, \u0027VERB\u0027, \u0027ADP\u0027, \u0027DET\u0027, \u0027ADJ\u0027, \u0027ADJ\u0027, \u0027NOUN\u0027, \u0027ADP\u0027, \u0027DET\u0027, \u0027ADJ\u0027, \u0027NOUN\u0027, \u0027.\u0027, \u0027ADP\u0027, \u0027ADJ\u0027, \u0027NOUN\u0027, \u0027.\u0027, \u0027CONJ\u0027, \u0027ADP\u0027, \u0027DET\u0027, \u0027NOUN\u0027, \u0027ADP\u0027, \u0027ADJ\u0027, \u0027ADJ\u0027, \u0027.\u0027, \u0027ADJ\u0027, \u0027.\u0027, \u0027CONJ\u0027, \u0027ADJ\u0027, \u0027NOUN\u0027, \u0027ADP\u0027, \u0027ADJ\u0027, \u0027NOUN\u0027, \u0027.\u0027)\n\n\n"
          ],
          "output_type": "stream"
        }
      ],
      "source": [
        "for key in data.testing_set.keys[:3]:\n",
        "    print(\"Sentence Key: {}\\n\".format(key))\n",
        "    print(\"Predicted labels:\\n-----------------\")\n",
        "    print(simplify_decoding(data.sentences[key].words, basic_model))\n",
        "    print()\n",
        "    print(\"Actual labels:\\n--------------\")\n",
        "    print(data.sentences[key].tags)\n",
        "    print(\"\\n\")"
      ]
    },
    {
      "cell_type": "markdown",
      "metadata": {
        "pycharm": {}
      },
      "source": [
        "\n",
        "## Finishing the project\n",
        "---\n",
        "\n",
        "\u003cdiv class\u003d\"alert alert-block alert-info\"\u003e\n",
        "**Note:** **SAVE YOUR NOTEBOOK**, then run the next cell to generate an HTML copy. You will zip \u0026 submit both this file and the HTML copy for review.\n",
        "\u003c/div\u003e"
      ]
    },
    {
      "cell_type": "code",
      "execution_count": null,
      "metadata": {
        "collapsed": true,
        "pycharm": {}
      },
      "outputs": [],
      "source": [
        "!!jupyter nbconvert *.ipynb"
      ]
    },
    {
      "cell_type": "markdown",
      "metadata": {
        "pycharm": {}
      },
      "source": [
        "## Step 4: [Optional] Improving model performance\n",
        "---\n",
        "There are additional enhancements that can be incorporated into your tagger that improve performance on larger tagsets where the data sparsity problem is more significant. The data sparsity problem arises because the same amount of data split over more tags means there will be fewer samples in each tag, and there will be more missing data  tags that have zero occurrences in the data. The techniques in this section are optional.\n",
        "\n",
        "- [Laplace Smoothing](https://en.wikipedia.org/wiki/Additive_smoothing) (pseudocounts)\n",
        "    Laplace smoothing is a technique where you add a small, non-zero value to all observed counts to offset for unobserved values.\n",
        "\n",
        "- Backoff Smoothing\n",
        "    Another smoothing technique is to interpolate between n-grams for missing data. This method is more effective than Laplace smoothing at combatting the data sparsity problem. Refer to chapters 4, 9, and 10 of the [Speech \u0026 Language Processing](https://web.stanford.edu/~jurafsky/slp3/) book for more information.\n",
        "\n",
        "- Extending to Trigrams\n",
        "    HMM taggers have achieved better than 96% accuracy on this dataset with the full Penn treebank tagset using an architecture described in [this](http://www.coli.uni-saarland.de/~thorsten/publications/Brants-ANLP00.pdf) paper. Altering your HMM to achieve the same performance would require implementing deleted interpolation (described in the paper), incorporating trigram probabilities in your frequency tables, and re-implementing the Viterbi algorithm to consider three consecutive states instead of two.\n",
        "\n",
        "### Obtain the Brown Corpus with a Larger Tagset\n",
        "Run the code below to download a copy of the brown corpus with the full NLTK tagset. You will need to research the available tagset information in the NLTK docs and determine the best way to extract the subset of NLTK tags you want to explore. If you write the following the format specified in Step 1, then you can reload the data using all of the code above for comparison.\n",
        "\n",
        "Refer to [Chapter 5](http://www.nltk.org/book/ch05.html) of the NLTK book for more information on the available tagsets."
      ]
    },
    {
      "cell_type": "code",
      "execution_count": null,
      "metadata": {
        "collapsed": true,
        "pycharm": {}
      },
      "outputs": [],
      "source": [
        "import nltk\n",
        "from nltk import pos_tag, word_tokenize\n",
        "from nltk.corpus import brown\n",
        "\n",
        "nltk.download(\u0027brown\u0027)\n",
        "training_corpus \u003d nltk.corpus.brown\n",
        "training_corpus.tagged_sents()[0]"
      ]
    }
  ],
  "metadata": {
    "kernelspec": {
      "name": "pycharm-4cb09575",
      "language": "python",
      "display_name": "PyCharm (hmm_tagger)"
    },
    "language_info": {
      "codemirror_mode": {
        "name": "ipython",
        "version": 3
      },
      "file_extension": ".py",
      "mimetype": "text/x-python",
      "name": "python",
      "nbconvert_exporter": "python",
      "pygments_lexer": "ipython3",
      "version": "3.6.3"
    }
  },
  "nbformat": 4,
  "nbformat_minor": 2
}